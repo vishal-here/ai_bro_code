{
 "cells": [
  {
   "cell_type": "code",
   "execution_count": 2,
   "metadata": {},
   "outputs": [
    {
     "name": "stdout",
     "output_type": "stream",
     "text": [
      "(0, 2, 3, 4)\n",
      "110\n",
      "(0, 2, 4, 3)\n",
      "105\n",
      "(0, 3, 2, 4)\n",
      "105\n",
      "(0, 3, 4, 2)\n",
      "85\n",
      "(0, 4, 2, 3)\n",
      "150\n",
      "(0, 4, 3, 2)\n",
      "135\n",
      "(2, 0, 3, 4)\n",
      "130\n",
      "(2, 0, 4, 3)\n",
      "175\n",
      "(2, 3, 0, 4)\n",
      "175\n",
      "(2, 3, 4, 0)\n",
      "135\n",
      "(2, 4, 0, 3)\n",
      "170\n",
      "(2, 4, 3, 0)\n",
      "85\n",
      "(3, 0, 2, 4)\n",
      "145\n",
      "(3, 0, 4, 2)\n",
      "170\n",
      "(3, 2, 0, 4)\n",
      "195\n",
      "(3, 2, 4, 0)\n",
      "150\n",
      "(3, 4, 0, 2)\n",
      "175\n",
      "(3, 4, 2, 0)\n",
      "105\n",
      "(4, 0, 2, 3)\n",
      "195\n",
      "(4, 0, 3, 2)\n",
      "175\n",
      "(4, 2, 0, 3)\n",
      "145\n",
      "(4, 2, 3, 0)\n",
      "105\n",
      "(4, 3, 0, 2)\n",
      "130\n",
      "(4, 3, 2, 0)\n",
      "110\n",
      "85\n"
     ]
    }
   ],
   "source": [
    "\n",
    "from sys import maxsize\n",
    "from itertools import permutations\n",
    "V = 5\n",
    "\n",
    "def travellingSalesmanProblem(graph, s):\n",
    "\n",
    "\tvertex = []\n",
    "\tfor i in range(V): \n",
    "\t\tif i != s:\n",
    "\t\t\tvertex.append(i)\n",
    "\n",
    "\tmin_path = maxsize\n",
    "\tnext_permutation=permutations(vertex)\n",
    "\n",
    "\tfor i in next_permutation:\n",
    "\t\t\n",
    "\t\tcurrent_pathweight = 0\n",
    "\t\tk = s\n",
    "\t\tfor j in i:\n",
    "\t\t\tcurrent_pathweight += graph[k][j]\n",
    "\t\t\tk = j\n",
    "\t\tcurrent_pathweight += graph[k][s]\n",
    "\t\tprint(i)\n",
    "\t\tprint(current_pathweight)\n",
    "\t\tmin_path = min(min_path, current_pathweight)\n",
    "\t\t\n",
    "\treturn min_path\n",
    "\n",
    " \n",
    "if __name__ == \"__main__\":\n",
    "\n",
    "\t# matrix representation of graph\n",
    "\tgraph = [[0,15,30,20,60 ], [15, 0, 35, 45,40],\n",
    "\t\t\t[30, 35, 0, 20,10], [20,45,20,0,5],[60,40,10,5,0]]\n",
    "\ts = 1\n",
    "\tprint(travellingSalesmanProblem(graph, s))\n"
   ]
  }
 ],
 "metadata": {
  "kernelspec": {
   "display_name": "Python 3.8.13 ('datascience')",
   "language": "python",
   "name": "python3"
  },
  "language_info": {
   "codemirror_mode": {
    "name": "ipython",
    "version": 3
   },
   "file_extension": ".py",
   "mimetype": "text/x-python",
   "name": "python",
   "nbconvert_exporter": "python",
   "pygments_lexer": "ipython3",
   "version": "3.8.13"
  },
  "orig_nbformat": 4,
  "vscode": {
   "interpreter": {
    "hash": "16bfe1ebd8f99e09120eb5310f6edc26b3d7dcd1329134f036837bfc374937dc"
   }
  }
 },
 "nbformat": 4,
 "nbformat_minor": 2
}
