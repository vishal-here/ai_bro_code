{
 "cells": [
  {
   "cell_type": "code",
   "execution_count": 2,
   "metadata": {},
   "outputs": [
    {
     "name": "stdout",
     "output_type": "stream",
     "text": [
      "DFS : \n",
      "1 2 4 3 "
     ]
    }
   ],
   "source": [
    "# a = (int)(input(\"enter number\"))\n",
    "# b = input( \"enter something\")\n",
    "# print(b)\n",
    "# print(a+2)\n",
    "n = int(input(\"Enter number of nodes : \"))\n",
    "graph= {} \n",
    "for i in range(n):\n",
    "    adjList = list(map(int,input().split()))\n",
    "    if len(adjList) >1 :\n",
    "        graph[adjList[0]] = adjList[1:]\n",
    "    else :\n",
    "        graph[adjList[0]] = []\n",
    "\n",
    "visited = set() \n",
    "\n",
    "def dfs(graph , visited , node):\n",
    "    if node not in visited :\n",
    "        print(node,end= \" \")\n",
    "        visited.add(node) \n",
    "        for x in graph[node]:\n",
    "            dfs(graph,visited,x)\n",
    "\n",
    "\n",
    "first = int(input(\"enter source node : \"))\n",
    "print(\"DFS : \")\n",
    "dfs(graph, visited ,first)\n",
    "        "
   ]
  },
  {
   "cell_type": "code",
   "execution_count": 4,
   "metadata": {},
   "outputs": [
    {
     "name": "stdout",
     "output_type": "stream",
     "text": [
      "1234"
     ]
    }
   ],
   "source": [
    "dict = {\n",
    "    1 : [2,3,4],\n",
    "    2 : [3,4,1],\n",
    "    3 : [4,1,2],\n",
    "    4 : [1,2,3]\n",
    "}\n",
    "\n",
    "visited = set()\n",
    "\n",
    "def dfs(dict,visited , node):\n",
    "    if node not in visited :\n",
    "        print(node, end=' ')\n",
    "        visited.add(node)\n",
    "        for x in dict[node] :\n",
    "            dfs(dict , visited , x)\n",
    "\n",
    "dfs(dict, visited, 2)\n"
   ]
  },
  {
   "cell_type": "code",
   "execution_count": 9,
   "metadata": {},
   "outputs": [
    {
     "ename": "SyntaxError",
     "evalue": "invalid syntax (2196556385.py, line 5)",
     "output_type": "error",
     "traceback": [
      "\u001b[1;36m  Input \u001b[1;32mIn [9]\u001b[1;36m\u001b[0m\n\u001b[1;33m    print(4  \" vishal\")\u001b[0m\n\u001b[1;37m             ^\u001b[0m\n\u001b[1;31mSyntaxError\u001b[0m\u001b[1;31m:\u001b[0m invalid syntax\n"
     ]
    }
   ],
   "source": [
    "\n",
    "numbers = (1, 2, 3, 4)\n",
    "temp = [1,2,3]\n",
    "result = map(lambda x: x + x, numbers)\n",
    "print(list(result))\n",
    "print(\" \")\n",
    "print(\"aman\")\n"
   ]
  }
 ],
 "metadata": {
  "kernelspec": {
   "display_name": "Python 3.8.13 ('datascience')",
   "language": "python",
   "name": "python3"
  },
  "language_info": {
   "codemirror_mode": {
    "name": "ipython",
    "version": 3
   },
   "file_extension": ".py",
   "mimetype": "text/x-python",
   "name": "python",
   "nbconvert_exporter": "python",
   "pygments_lexer": "ipython3",
   "version": "3.8.13"
  },
  "orig_nbformat": 4,
  "vscode": {
   "interpreter": {
    "hash": "16bfe1ebd8f99e09120eb5310f6edc26b3d7dcd1329134f036837bfc374937dc"
   }
  }
 },
 "nbformat": 4,
 "nbformat_minor": 2
}
