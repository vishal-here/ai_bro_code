{
 "cells": [
  {
   "cell_type": "code",
   "execution_count": 18,
   "metadata": {},
   "outputs": [
    {
     "name": "stdout",
     "output_type": "stream",
     "text": [
      "hello world\n",
      "1\n",
      "2\n",
      "3\n",
      "4\n",
      "[1, 'orange', 'a', 'jadu']\n",
      "<class 'complex'>\n",
      "[1, 'hello', 'orange', 'a', 'jadu', 'ishan']\n",
      "['vishal', 'kumar']\n",
      "sha\n",
      "a\n",
      "{1, 2, 4}\n",
      "dict_values(['aman', 'aashish', 'ishan'])\n"
     ]
    }
   ],
   "source": [
    "print(\"hello world\")\n",
    "for x in range(1,5):\n",
    "    print(x)\n",
    "\n",
    "list = [1, \"orange\" , 'a' ]\n",
    "list.append(\"jadu\")\n",
    "print(list)\n",
    "list.insert(1,\"hello\")\n",
    "list.count(\"orange\")\n",
    "print(type(3+2j))\n",
    "\n",
    "newlist = list.copy()\n",
    "newlist.append(\"ishan\")\n",
    "print (newlist)\n",
    "list.extend(newlist)\n",
    "s = \"vishal\"\n",
    "k = \",kumar\" \n",
    "print((s+k).split(\",\"))\n",
    "print(s[2:5])\n",
    "print(s[-2:5])\n",
    "\n",
    "k = {1,2,2 , 4} \n",
    "print(k)\n",
    "\n",
    "dict = { 'a' : \"aman\" , \"jadu\" : \"aashish\" , \"bharwa\" : \"ishan\"}\n",
    "\n",
    "print(dict.values())\n"
   ]
  }
 ],
 "metadata": {
  "kernelspec": {
   "display_name": "Python 3.8.13 ('datascience')",
   "language": "python",
   "name": "python3"
  },
  "language_info": {
   "codemirror_mode": {
    "name": "ipython",
    "version": 3
   },
   "file_extension": ".py",
   "mimetype": "text/x-python",
   "name": "python",
   "nbconvert_exporter": "python",
   "pygments_lexer": "ipython3",
   "version": "3.8.13"
  },
  "orig_nbformat": 4,
  "vscode": {
   "interpreter": {
    "hash": "16bfe1ebd8f99e09120eb5310f6edc26b3d7dcd1329134f036837bfc374937dc"
   }
  }
 },
 "nbformat": 4,
 "nbformat_minor": 2
}
