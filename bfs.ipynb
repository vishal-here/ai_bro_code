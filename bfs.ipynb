{
 "cells": [
  {
   "cell_type": "code",
   "execution_count": 3,
   "metadata": {},
   "outputs": [
    {
     "name": "stdout",
     "output_type": "stream",
     "text": [
      " BFS  : \n",
      "1 2 4 3 "
     ]
    }
   ],
   "source": [
    "n = int(input(\"Enter the number of nodes : \"))\n",
    "dict = {}\n",
    "for i in range(n):\n",
    "    temp = list(map(str, input().split()))\n",
    "    if len(temp) > 1:\n",
    "        dict[temp[0]] = temp[1:]\n",
    "    else:\n",
    "        dict[temp[0]] = []\n",
    "        \n",
    "visited = set()\n",
    "queue = []\n",
    "\n",
    "def bfs(visited, dict, node):\n",
    "    visited.add(node)\n",
    "    queue.append(node)\n",
    "    \n",
    "    while queue:\n",
    "        s = queue.pop(0)\n",
    "        print(s, end = \" \")\n",
    "        \n",
    "        for adjList in dict[s]:\n",
    "            if adjList not in visited:\n",
    "                visited.add(adjList)\n",
    "                queue.append(adjList)\n",
    "            \n",
    "m = str(input(\"Enter the source node : \"))\n",
    "print(\" BFS  : \")\n",
    "bfs(visited, dict, m)"
   ]
  },
  {
   "cell_type": "code",
   "execution_count": 10,
   "metadata": {},
   "outputs": [
    {
     "name": "stdout",
     "output_type": "stream",
     "text": [
      "2 4 3 1 "
     ]
    }
   ],
   "source": [
    "graph = {\n",
    "    1 : [2,3,4],\n",
    "    2 : [1,3,4],\n",
    "    3 : [4,2,1],\n",
    "    4 : [1,2,3]\n",
    "}\n",
    "\n",
    "visited = set()\n",
    "queue = []\n",
    "\n",
    "def bfs(graph, visited , node ) :\n",
    "    visited.add(node)\n",
    "    queue.append(node)\n",
    "    while queue :\n",
    "        s = queue.pop()\n",
    "        print(s, end= ' ')\n",
    "\n",
    "        for x in graph[s] :\n",
    "            if x not in visited :\n",
    "                visited.add(x)\n",
    "                queue.append(x)\n",
    "\n",
    "\n",
    "bfs(graph, visited, 2)"
   ]
  }
 ],
 "metadata": {
  "kernelspec": {
   "display_name": "Python 3.8.13 ('datascience')",
   "language": "python",
   "name": "python3"
  },
  "language_info": {
   "codemirror_mode": {
    "name": "ipython",
    "version": 3
   },
   "file_extension": ".py",
   "mimetype": "text/x-python",
   "name": "python",
   "nbconvert_exporter": "python",
   "pygments_lexer": "ipython3",
   "version": "3.8.13"
  },
  "orig_nbformat": 4,
  "vscode": {
   "interpreter": {
    "hash": "16bfe1ebd8f99e09120eb5310f6edc26b3d7dcd1329134f036837bfc374937dc"
   }
  }
 },
 "nbformat": 4,
 "nbformat_minor": 2
}
