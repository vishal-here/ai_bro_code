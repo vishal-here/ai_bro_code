{
 "cells": [
  {
   "cell_type": "code",
   "execution_count": 12,
   "metadata": {},
   "outputs": [
    {
     "name": "stdout",
     "output_type": "stream",
     "text": [
      "itertion 1\n",
      "itertion 2\n",
      "itertion 3\n",
      "itertion 4\n",
      "itertion 5\n",
      "itertion 6\n",
      "itertion 7\n",
      "itertion 8\n",
      "itertion 9\n",
      "itertion 10\n",
      "['G', 'F', 'E', 'D', 'B', 'A']\n",
      "19\n"
     ]
    }
   ],
   "source": [
    "V = {}\n",
    "E = {}\n",
    "V = ({'A': 7, 'B': 9, 'C': 6, 'D': 5, 'E': 6, 'F': 4.5, 'H': 4, 'I': 2, 'J': 3, 'K': 3.5, 'G': 0})\n",
    "E = (\n",
    "{('B', 'D'): 2, ('A', 'B'): 4, ('A', 'C'): 4, ('A', 'D'): 7, ('D', 'E'): 6, ('E', 'F'): 5, ('D', 'F'): 8, ('D', 'H'): 5,\n",
    " ('H', 'I'): 3, ('I', 'J'): 3, ('J', 'K'): 3, ('K', 'H'): 3, ('F', 'G'): 5})\n",
    "INFINITY = 10000000\n",
    "cameFrom = {}\n",
    "\n",
    "\n",
    "def h(node):\n",
    "    return V[node]\n",
    "\n",
    "\n",
    "def price(node, succ):\n",
    "    return E[node, succ]\n",
    "\n",
    "\n",
    "def successors(node):\n",
    "    adjList = []\n",
    "    for item in E:\n",
    "        if node == item[0][0]:\n",
    "            adjList.append(item[1][0])\n",
    "    return adjList\n",
    "\n",
    "\n",
    "def reconstruct_path(cameFrom, current):\n",
    "    total_path = [current]\n",
    "    while current in cameFrom:\n",
    "        current = cameFrom[current]\n",
    "        total_path.append(current)\n",
    "    return total_path\n",
    "\n",
    "\n",
    "def ida_star(root, goal):\n",
    "    global cameFrom\n",
    "\n",
    "    def search(node, g, bound):\n",
    "        min_node = None\n",
    "        global cameFrom\n",
    "        f = g + h(node)\n",
    "        if f > bound: return f\n",
    "        if node == goal: return \"FOUND\"\n",
    "        minn = INFINITY\n",
    "        for succ in successors(node):\n",
    "            t = search(succ, g + price(node, succ), bound)\n",
    "            if t == \"FOUND\": return \"FOUND\"\n",
    "            if t < minn:\n",
    "                minn = t\n",
    "                min_node = succ\n",
    "        cameFrom[min_node] = node\n",
    "        return minn\n",
    "\n",
    "    bound = h(root)\n",
    "    count = 1\n",
    "    while 1:\n",
    "        print(\"itertion \" + str(count))\n",
    "        count += 1\n",
    "        t = search(root, 0, bound)\n",
    "        if t == \"FOUND\":\n",
    "            print(reconstruct_path(cameFrom, goal))\n",
    "            return bound\n",
    "        if t == INFINITY: return \"NOT_FOUND\"\n",
    "        bound = t\n",
    "\n",
    "\n",
    "print(ida_star('A', 'G'))"
   ]
  }
 ],
 "metadata": {
  "kernelspec": {
   "display_name": "Python 3.8.13 ('datascience')",
   "language": "python",
   "name": "python3"
  },
  "language_info": {
   "codemirror_mode": {
    "name": "ipython",
    "version": 3
   },
   "file_extension": ".py",
   "mimetype": "text/x-python",
   "name": "python",
   "nbconvert_exporter": "python",
   "pygments_lexer": "ipython3",
   "version": "3.8.13"
  },
  "orig_nbformat": 4,
  "vscode": {
   "interpreter": {
    "hash": "16bfe1ebd8f99e09120eb5310f6edc26b3d7dcd1329134f036837bfc374937dc"
   }
  }
 },
 "nbformat": 4,
 "nbformat_minor": 2
}
