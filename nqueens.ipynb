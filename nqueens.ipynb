{
 "cells": [
  {
   "cell_type": "code",
   "execution_count": 2,
   "metadata": {},
   "outputs": [
    {
     "name": "stdout",
     "output_type": "stream",
     "text": [
      "input must be greater than 3 \n",
      "1 0 0 0 0 \n",
      "0 0 1 0 0 \n",
      "0 0 0 0 1 \n",
      "0 1 0 0 0 \n",
      "0 0 0 1 0 \n"
     ]
    }
   ],
   "source": [
    "n = int(input(\"Enter the value of n\"))\n",
    "\n",
    "while n<=3 :\n",
    "    print(\"input must be greater than 3 \")\n",
    "    n = int(input(\"Enter the value of n\"))\n",
    "\n",
    "board = []\n",
    " \n",
    " \n",
    "\n",
    "\n",
    "def getBoard():\n",
    "    \n",
    "    for i in range(n):\n",
    "        nthList = []\n",
    "        for j in range(n):\n",
    "            nthList.append(0)\n",
    "        board.append(nthList)\n",
    "\n",
    "def printBoard():\n",
    "    for i in range(n):\n",
    "        for j in range(n):\n",
    "            print(board[i][j], end = \" \")\n",
    "        print(\"\")\n",
    "        \n",
    "def isSafe(row, col):\n",
    "    for i in range(n):\n",
    "        if board[row][i] == 1:\n",
    "            return False\n",
    "    for j in range(n):\n",
    "        if board[j][col] == 1:\n",
    "            return False\n",
    "        \n",
    "    i = row-1\n",
    "    j = col-1\n",
    "    while(i>=0 and j>=0):\n",
    "        if board[i][j] == 1:\n",
    "            return False\n",
    "        i = i-1\n",
    "        j = j-1\n",
    "\n",
    "    i = row-1\n",
    "    j = col+1\n",
    "    while(i>=0 and j<n):\n",
    "        if board[i][j] == 1:\n",
    "            return False\n",
    "        i = i-1\n",
    "        j = j+1\n",
    "\n",
    "    i = row+1\n",
    "    j = col-1\n",
    "    while(i<n and j>=0):\n",
    "        if board[i][j] == 1:\n",
    "            return False\n",
    "        i = i+1\n",
    "        j = j-1\n",
    "\n",
    "    i = row+1\n",
    "    j = col+1\n",
    "    while(i<n and j<n):\n",
    "        if board[i][j] == 1:\n",
    "            return False\n",
    "         i = i+1\n",
    "        j = j+1\n",
    "    return True\n",
    "\n",
    "def Put(n, count):\n",
    "    if count == n:\n",
    "        return True\n",
    "    for i in range(n):\n",
    "        for j in range(n):\n",
    "            if isSafe(i, j):\n",
    "                board[i][j] = 1\n",
    "                count = count+1\n",
    "                if Put(n, count) == True:\n",
    "                    return True\n",
    "                board[i][j] = 0\n",
    "                count = count-1\n",
    "    return False\n",
    "\n",
    "getBoard()\n",
    "Put(n, 0)\n",
    "printBoard()"
   ]
  }
 ],
 "metadata": {
  "kernelspec": {
   "display_name": "Python 3.8.13 ('datascience')",
   "language": "python",
   "name": "python3"
  },
  "language_info": {
   "codemirror_mode": {
    "name": "ipython",
    "version": 3
   },
   "file_extension": ".py",
   "mimetype": "text/x-python",
   "name": "python",
   "nbconvert_exporter": "python",
   "pygments_lexer": "ipython3",
   "version": "3.8.13"
  },
  "orig_nbformat": 4,
  "vscode": {
   "interpreter": {
    "hash": "16bfe1ebd8f99e09120eb5310f6edc26b3d7dcd1329134f036837bfc374937dc"
   }
  }
 },
 "nbformat": 4,
 "nbformat_minor": 2
}
